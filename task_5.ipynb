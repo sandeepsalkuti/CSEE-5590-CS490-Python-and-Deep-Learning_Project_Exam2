{
  "nbformat": 4,
  "nbformat_minor": 0,
  "metadata": {
    "colab": {
      "name": "task 5.ipynb",
      "provenance": [],
      "collapsed_sections": [],
      "include_colab_link": true
    },
    "kernelspec": {
      "name": "python3",
      "display_name": "Python 3"
    }
  },
  "cells": [
    {
      "cell_type": "markdown",
      "metadata": {
        "id": "view-in-github",
        "colab_type": "text"
      },
      "source": [
        "<a href=\"https://colab.research.google.com/github/SumanthMedavarapu/DL-ICP6/blob/master/task_5.ipynb\" target=\"_parent\"><img src=\"https://colab.research.google.com/assets/colab-badge.svg\" alt=\"Open In Colab\"/></a>"
      ]
    },
    {
      "cell_type": "markdown",
      "metadata": {
        "id": "PSLKEjtDZo8k",
        "colab_type": "text"
      },
      "source": [
        "**Autoencoder+CNN**"
      ]
    },
    {
      "cell_type": "code",
      "metadata": {
        "id": "oeBVNKbkZd5a",
        "colab_type": "code",
        "colab": {
          "base_uri": "https://localhost:8080/",
          "height": 34
        },
        "outputId": "1efea018-66fe-4709-fc9e-eeed9ba6ea23"
      },
      "source": [
        "import tensorflow as tf\n",
        "from tensorflow import keras\n",
        "from tensorflow.keras import datasets, layers, models\n",
        "from tensorflow.keras.models import load_model\n",
        "\n",
        "import numpy as np\n",
        "import matplotlib.pyplot as plt\n",
        "from time import time\n",
        "from random import randint\n",
        "\n",
        "from keras.datasets import cifar10\n",
        "\n",
        "from keras.utils import np_utils\n",
        "from keras.constraints import maxnorm\n",
        "from keras.layers import Dense, Input\n",
        "from keras.layers import Dropout\n",
        "from keras.layers import Flatten\n",
        "from keras.optimizers import SGD\n",
        "from keras.models import Model\n",
        "from keras.callbacks import TensorBoard\n",
        "\n",
        "from keras import regularizers\n",
        "from keras import backend as K\n",
        "\n",
        "from sklearn.decomposition import PCA\n",
        "from sklearn.preprocessing import StandardScaler"
      ],
      "execution_count": null,
      "outputs": [
        {
          "output_type": "stream",
          "text": [
            "Using TensorFlow backend.\n"
          ],
          "name": "stderr"
        }
      ]
    },
    {
      "cell_type": "code",
      "metadata": {
        "id": "D8RB-XduZ44h",
        "colab_type": "code",
        "colab": {}
      },
      "source": [
        "# Apply autoencoder to the Cifar_10 dataset\n",
        "j = randint(0,10000)"
      ],
      "execution_count": null,
      "outputs": []
    },
    {
      "cell_type": "code",
      "metadata": {
        "id": "dS0b7K95aoVi",
        "colab_type": "code",
        "colab": {}
      },
      "source": [
        "# Single fully-connected neural layer as encoder and decoder\n",
        "\n",
        "# this is the size of our encoded representations\n",
        "encoding_dim = 128  # 128 floats -> compression of factor 24, assuming the input is 3072 floatst"
      ],
      "execution_count": null,
      "outputs": []
    },
    {
      "cell_type": "code",
      "metadata": {
        "id": "YUg7LX1Pa6-R",
        "colab_type": "code",
        "colab": {}
      },
      "source": [
        "# this is our input placeholder\n",
        "input_img = Input(shape=(3072,))"
      ],
      "execution_count": null,
      "outputs": []
    },
    {
      "cell_type": "code",
      "metadata": {
        "id": "CrEeISzda-PU",
        "colab_type": "code",
        "colab": {}
      },
      "source": [
        "# \"encoded\" is the encoded representation of the input\n",
        "encoded = Dense(encoding_dim, activation='relu')(input_img)"
      ],
      "execution_count": null,
      "outputs": []
    },
    {
      "cell_type": "code",
      "metadata": {
        "id": "Q7R7pfc4bBQV",
        "colab_type": "code",
        "colab": {}
      },
      "source": [
        "# \"decoded\" is the loss reconstruction of the input\n",
        "decoded = Dense(3072, activation='sigmoid')(encoded)  "
      ],
      "execution_count": null,
      "outputs": []
    },
    {
      "cell_type": "code",
      "metadata": {
        "id": "YXIY0f2ebRs3",
        "colab_type": "code",
        "colab": {}
      },
      "source": [
        "\n",
        "# this model maps an input to its reconstruction\n",
        "autoencoder = Model(input_img, decoded)"
      ],
      "execution_count": null,
      "outputs": []
    },
    {
      "cell_type": "code",
      "metadata": {
        "id": "oRHMdKkObUFt",
        "colab_type": "code",
        "colab": {}
      },
      "source": [
        "# Seperate encode model\n",
        "\n",
        "# this model maps an input to its encoded representation\n",
        "encoder = Model(input_img, encoded)"
      ],
      "execution_count": null,
      "outputs": []
    },
    {
      "cell_type": "markdown",
      "metadata": {
        "id": "0XZFKzCxbbcy",
        "colab_type": "text"
      },
      "source": [
        "Decoder Model"
      ]
    },
    {
      "cell_type": "code",
      "metadata": {
        "id": "XWWMiMhhba73",
        "colab_type": "code",
        "colab": {}
      },
      "source": [
        "# create a placeholder for an encoded (32-dimensional) input\n",
        "encoded_input = Input(shape=(encoding_dim,))"
      ],
      "execution_count": null,
      "outputs": []
    },
    {
      "cell_type": "code",
      "metadata": {
        "id": "MMHnJwsAbfVw",
        "colab_type": "code",
        "colab": {}
      },
      "source": [
        "# retrieve the last layer of the autoencoder model\n",
        "decoder_layer = autoencoder.layers[-1]"
      ],
      "execution_count": null,
      "outputs": []
    },
    {
      "cell_type": "code",
      "metadata": {
        "id": "bDPQcgZwbgCD",
        "colab_type": "code",
        "colab": {}
      },
      "source": [
        "# create the decoder model\n",
        "decoder = Model(encoded_input, decoder_layer(encoded_input))"
      ],
      "execution_count": null,
      "outputs": []
    },
    {
      "cell_type": "code",
      "metadata": {
        "id": "ccUFnidHbgKq",
        "colab_type": "code",
        "colab": {}
      },
      "source": [
        "\n",
        "# Autoencoder model configuration\n",
        "\n",
        "\n",
        "\n",
        "# this model maps an input to its encoded representation\n",
        "autoencoder.compile(optimizer='adadelta', loss='binary_crossentropy', metrics=['accuracy'])"
      ],
      "execution_count": null,
      "outputs": []
    },
    {
      "cell_type": "code",
      "metadata": {
        "id": "Oui44Ztdbr4I",
        "colab_type": "code",
        "colab": {
          "base_uri": "https://localhost:8080/",
          "height": 51
        },
        "outputId": "6654c59f-e3b6-475a-b60d-6caf795541e6"
      },
      "source": [
        "# Prepare data\n",
        "\n",
        "# load data\n",
        "(x_train, y_train), (x_test, y_test) = cifar10.load_data()"
      ],
      "execution_count": null,
      "outputs": [
        {
          "output_type": "stream",
          "text": [
            "Downloading data from https://www.cs.toronto.edu/~kriz/cifar-10-python.tar.gz\n",
            "170500096/170498071 [==============================] - 2s 0us/step\n"
          ],
          "name": "stdout"
        }
      ]
    },
    {
      "cell_type": "code",
      "metadata": {
        "id": "w7I6lr3Eb1x2",
        "colab_type": "code",
        "colab": {}
      },
      "source": [
        "x_train = x_train.reshape(50000,3,32,32).transpose(0,2,3,1).astype(\"uint8\")\n",
        "x_test = x_test.reshape(10000,3,32,32).transpose(0,2,3,1).astype(\"uint8\")"
      ],
      "execution_count": null,
      "outputs": []
    },
    {
      "cell_type": "markdown",
      "metadata": {
        "id": "kc83WG3Pb8Er",
        "colab_type": "text"
      },
      "source": [
        "Normalize all values between 0 and 1, and flatten 32x32 images into vectors of size 3072"
      ]
    },
    {
      "cell_type": "code",
      "metadata": {
        "id": "jtsqmvfFb4Z-",
        "colab_type": "code",
        "colab": {}
      },
      "source": [
        "# normalize inputs from 0-255 to 0.0-1.0\n",
        "x_train = x_train.astype('uint8') / 255.\n",
        "x_test = x_test.astype('uint8') / 255.\n",
        "x_train = x_train.reshape((len(x_train), np.prod(x_train.shape[1:])))\n",
        "x_test = x_test.reshape((len(x_test), np.prod(x_test.shape[1:])))"
      ],
      "execution_count": null,
      "outputs": []
    },
    {
      "cell_type": "code",
      "metadata": {
        "id": "VcPsG1uTb_iQ",
        "colab_type": "code",
        "colab": {
          "base_uri": "https://localhost:8080/",
          "height": 51
        },
        "outputId": "1b535a8e-dbf6-4de1-b301-2afe383c5494"
      },
      "source": [
        "# print shape of data\n",
        "print(x_train.shape)\n",
        "print(x_test.shape)"
      ],
      "execution_count": null,
      "outputs": [
        {
          "output_type": "stream",
          "text": [
            "(50000, 3072)\n",
            "(10000, 3072)\n"
          ],
          "name": "stdout"
        }
      ]
    },
    {
      "cell_type": "code",
      "metadata": {
        "id": "XEHVKZQScCYl",
        "colab_type": "code",
        "colab": {}
      },
      "source": [
        "# one hot encode outputs\n",
        "y_train = np_utils.to_categorical(y_train)\n",
        "y_test = np_utils.to_categorical(y_test)\n",
        "num_classes = y_test.shape[1]"
      ],
      "execution_count": null,
      "outputs": []
    },
    {
      "cell_type": "code",
      "metadata": {
        "id": "HltaWIhtcMrj",
        "colab_type": "code",
        "colab": {
          "base_uri": "https://localhost:8080/",
          "height": 34
        },
        "outputId": "f7debccd-27d3-41bd-b223-50ad3bf4b997"
      },
      "source": [
        "print(num_classes)"
      ],
      "execution_count": null,
      "outputs": [
        {
          "output_type": "stream",
          "text": [
            "10\n"
          ],
          "name": "stdout"
        }
      ]
    },
    {
      "cell_type": "code",
      "metadata": {
        "id": "5HRiAUX7cOkb",
        "colab_type": "code",
        "colab": {
          "base_uri": "https://localhost:8080/",
          "height": 1000
        },
        "outputId": "abea3d23-4ce0-4d0f-9279-ceced5510706"
      },
      "source": [
        "tensorboard = TensorBoard(log_dir='2', histogram_freq=0, write_graph=True, write_images=False)\n",
        "history = autoencoder.fit(x_train, x_train, epochs=50, batch_size=256, shuffle=True, validation_data=(x_test, x_test), callbacks=[tensorboard])"
      ],
      "execution_count": null,
      "outputs": [
        {
          "output_type": "stream",
          "text": [
            "Train on 50000 samples, validate on 10000 samples\n",
            "Epoch 1/50\n",
            "50000/50000 [==============================] - 15s 305us/step - loss: 0.6928 - accuracy: 0.0066 - val_loss: 0.6917 - val_accuracy: 0.0072\n",
            "Epoch 2/50\n",
            "50000/50000 [==============================] - 15s 302us/step - loss: 0.6879 - accuracy: 0.0082 - val_loss: 0.6822 - val_accuracy: 0.0091\n",
            "Epoch 3/50\n",
            "50000/50000 [==============================] - 15s 304us/step - loss: 0.6767 - accuracy: 0.0093 - val_loss: 0.6713 - val_accuracy: 0.0097\n",
            "Epoch 4/50\n",
            "50000/50000 [==============================] - 16s 312us/step - loss: 0.6668 - accuracy: 0.0099 - val_loss: 0.6623 - val_accuracy: 0.0104\n",
            "Epoch 5/50\n",
            "50000/50000 [==============================] - 15s 308us/step - loss: 0.6587 - accuracy: 0.0107 - val_loss: 0.6551 - val_accuracy: 0.0110\n",
            "Epoch 6/50\n",
            "50000/50000 [==============================] - 16s 314us/step - loss: 0.6528 - accuracy: 0.0110 - val_loss: 0.6506 - val_accuracy: 0.0112\n",
            "Epoch 7/50\n",
            "50000/50000 [==============================] - 18s 357us/step - loss: 0.6489 - accuracy: 0.0112 - val_loss: 0.6471 - val_accuracy: 0.0113\n",
            "Epoch 8/50\n",
            "50000/50000 [==============================] - 15s 309us/step - loss: 0.6454 - accuracy: 0.0113 - val_loss: 0.6436 - val_accuracy: 0.0114\n",
            "Epoch 9/50\n",
            "50000/50000 [==============================] - 16s 315us/step - loss: 0.6420 - accuracy: 0.0114 - val_loss: 0.6403 - val_accuracy: 0.0115\n",
            "Epoch 10/50\n",
            "50000/50000 [==============================] - 15s 308us/step - loss: 0.6388 - accuracy: 0.0114 - val_loss: 0.6374 - val_accuracy: 0.0115\n",
            "Epoch 11/50\n",
            "50000/50000 [==============================] - 16s 312us/step - loss: 0.6359 - accuracy: 0.0115 - val_loss: 0.6346 - val_accuracy: 0.0116\n",
            "Epoch 12/50\n",
            "50000/50000 [==============================] - 15s 304us/step - loss: 0.6332 - accuracy: 0.0116 - val_loss: 0.6321 - val_accuracy: 0.0117\n",
            "Epoch 13/50\n",
            "50000/50000 [==============================] - 15s 303us/step - loss: 0.6308 - accuracy: 0.0116 - val_loss: 0.6298 - val_accuracy: 0.0117\n",
            "Epoch 14/50\n",
            "50000/50000 [==============================] - 15s 300us/step - loss: 0.6286 - accuracy: 0.0116 - val_loss: 0.6278 - val_accuracy: 0.0118\n",
            "Epoch 15/50\n",
            "50000/50000 [==============================] - 15s 302us/step - loss: 0.6266 - accuracy: 0.0117 - val_loss: 0.6260 - val_accuracy: 0.0118\n",
            "Epoch 16/50\n",
            "50000/50000 [==============================] - 15s 298us/step - loss: 0.6249 - accuracy: 0.0117 - val_loss: 0.6243 - val_accuracy: 0.0118\n",
            "Epoch 17/50\n",
            "50000/50000 [==============================] - 15s 298us/step - loss: 0.6234 - accuracy: 0.0117 - val_loss: 0.6229 - val_accuracy: 0.0118\n",
            "Epoch 18/50\n",
            "50000/50000 [==============================] - 15s 301us/step - loss: 0.6220 - accuracy: 0.0118 - val_loss: 0.6219 - val_accuracy: 0.0118\n",
            "Epoch 19/50\n",
            "50000/50000 [==============================] - 15s 305us/step - loss: 0.6206 - accuracy: 0.0118 - val_loss: 0.6204 - val_accuracy: 0.0118\n",
            "Epoch 20/50\n",
            "50000/50000 [==============================] - 16s 310us/step - loss: 0.6194 - accuracy: 0.0118 - val_loss: 0.6191 - val_accuracy: 0.0119\n",
            "Epoch 21/50\n",
            "50000/50000 [==============================] - 16s 311us/step - loss: 0.6181 - accuracy: 0.0118 - val_loss: 0.6179 - val_accuracy: 0.0119\n",
            "Epoch 22/50\n",
            "50000/50000 [==============================] - 16s 313us/step - loss: 0.6168 - accuracy: 0.0118 - val_loss: 0.6166 - val_accuracy: 0.0119\n",
            "Epoch 23/50\n",
            "50000/50000 [==============================] - 15s 306us/step - loss: 0.6156 - accuracy: 0.0118 - val_loss: 0.6154 - val_accuracy: 0.0119\n",
            "Epoch 24/50\n",
            "50000/50000 [==============================] - 15s 308us/step - loss: 0.6142 - accuracy: 0.0118 - val_loss: 0.6142 - val_accuracy: 0.0119\n",
            "Epoch 25/50\n",
            "50000/50000 [==============================] - 14s 290us/step - loss: 0.6129 - accuracy: 0.0119 - val_loss: 0.6137 - val_accuracy: 0.0119\n",
            "Epoch 26/50\n",
            "50000/50000 [==============================] - 13s 259us/step - loss: 0.6116 - accuracy: 0.0119 - val_loss: 0.6115 - val_accuracy: 0.0120\n",
            "Epoch 27/50\n",
            "50000/50000 [==============================] - 13s 258us/step - loss: 0.6103 - accuracy: 0.0119 - val_loss: 0.6101 - val_accuracy: 0.0120\n",
            "Epoch 28/50\n",
            "50000/50000 [==============================] - 13s 258us/step - loss: 0.6089 - accuracy: 0.0119 - val_loss: 0.6091 - val_accuracy: 0.0120\n",
            "Epoch 29/50\n",
            "50000/50000 [==============================] - 13s 258us/step - loss: 0.6077 - accuracy: 0.0119 - val_loss: 0.6076 - val_accuracy: 0.0120\n",
            "Epoch 30/50\n",
            "50000/50000 [==============================] - 13s 263us/step - loss: 0.6067 - accuracy: 0.0119 - val_loss: 0.6102 - val_accuracy: 0.0120\n",
            "Epoch 31/50\n",
            "50000/50000 [==============================] - 13s 258us/step - loss: 0.6068 - accuracy: 0.0119 - val_loss: 0.6108 - val_accuracy: 0.0120\n",
            "Epoch 32/50\n",
            "50000/50000 [==============================] - 13s 259us/step - loss: 0.6063 - accuracy: 0.0119 - val_loss: 0.6090 - val_accuracy: 0.0120\n",
            "Epoch 33/50\n",
            "50000/50000 [==============================] - 13s 256us/step - loss: 0.6061 - accuracy: 0.0119 - val_loss: 0.6042 - val_accuracy: 0.0120\n",
            "Epoch 34/50\n",
            "50000/50000 [==============================] - 13s 260us/step - loss: 0.6051 - accuracy: 0.0119 - val_loss: 0.6183 - val_accuracy: 0.0120\n",
            "Epoch 35/50\n",
            "50000/50000 [==============================] - 13s 260us/step - loss: 0.6045 - accuracy: 0.0119 - val_loss: 0.6040 - val_accuracy: 0.0120\n",
            "Epoch 36/50\n",
            "50000/50000 [==============================] - 13s 259us/step - loss: 0.6042 - accuracy: 0.0119 - val_loss: 0.6050 - val_accuracy: 0.0120\n",
            "Epoch 37/50\n",
            "50000/50000 [==============================] - 13s 257us/step - loss: 0.6032 - accuracy: 0.0119 - val_loss: 0.6000 - val_accuracy: 0.0120\n",
            "Epoch 38/50\n",
            "50000/50000 [==============================] - 13s 260us/step - loss: 0.6034 - accuracy: 0.0119 - val_loss: 0.6022 - val_accuracy: 0.0120\n",
            "Epoch 39/50\n",
            "50000/50000 [==============================] - 13s 258us/step - loss: 0.6023 - accuracy: 0.0120 - val_loss: 0.6023 - val_accuracy: 0.0121\n",
            "Epoch 40/50\n",
            "50000/50000 [==============================] - 13s 260us/step - loss: 0.6020 - accuracy: 0.0120 - val_loss: 0.6001 - val_accuracy: 0.0120\n",
            "Epoch 41/50\n",
            "50000/50000 [==============================] - 13s 259us/step - loss: 0.6014 - accuracy: 0.0120 - val_loss: 0.6102 - val_accuracy: 0.0121\n",
            "Epoch 42/50\n",
            "50000/50000 [==============================] - 13s 259us/step - loss: 0.6004 - accuracy: 0.0120 - val_loss: 0.6042 - val_accuracy: 0.0121\n",
            "Epoch 43/50\n",
            "50000/50000 [==============================] - 13s 259us/step - loss: 0.6003 - accuracy: 0.0120 - val_loss: 0.5974 - val_accuracy: 0.0120\n",
            "Epoch 44/50\n",
            "50000/50000 [==============================] - 13s 259us/step - loss: 0.5995 - accuracy: 0.0120 - val_loss: 0.6008 - val_accuracy: 0.0120\n",
            "Epoch 45/50\n",
            "50000/50000 [==============================] - 13s 259us/step - loss: 0.5993 - accuracy: 0.0120 - val_loss: 0.5965 - val_accuracy: 0.0120\n",
            "Epoch 46/50\n",
            "50000/50000 [==============================] - 13s 257us/step - loss: 0.5984 - accuracy: 0.0120 - val_loss: 0.5959 - val_accuracy: 0.0121\n",
            "Epoch 47/50\n",
            "50000/50000 [==============================] - 13s 258us/step - loss: 0.5979 - accuracy: 0.0120 - val_loss: 0.6092 - val_accuracy: 0.0121\n",
            "Epoch 48/50\n",
            "50000/50000 [==============================] - 13s 264us/step - loss: 0.5971 - accuracy: 0.0120 - val_loss: 0.5987 - val_accuracy: 0.0120\n",
            "Epoch 49/50\n",
            "50000/50000 [==============================] - 13s 260us/step - loss: 0.5974 - accuracy: 0.0120 - val_loss: 0.6037 - val_accuracy: 0.0120\n",
            "Epoch 50/50\n",
            "50000/50000 [==============================] - 16s 321us/step - loss: 0.5968 - accuracy: 0.0120 - val_loss: 0.5980 - val_accuracy: 0.0121\n"
          ],
          "name": "stdout"
        }
      ]
    },
    {
      "cell_type": "markdown",
      "metadata": {
        "id": "U_RgAdxohHjI",
        "colab_type": "text"
      },
      "source": [
        "Visualize reconstructed inputs and encoded representations"
      ]
    },
    {
      "cell_type": "code",
      "metadata": {
        "id": "GEpseAFycSNH",
        "colab_type": "code",
        "colab": {}
      },
      "source": [
        "# encode and decode some digits\n",
        "# note that we take them from the *test* set\n",
        "encoded_imgs = encoder.predict(x_test)\n",
        "decoded_imgs = decoder.predict(encoded_imgs)"
      ],
      "execution_count": null,
      "outputs": []
    },
    {
      "cell_type": "markdown",
      "metadata": {
        "id": "xD_diJN1hpAk",
        "colab_type": "text"
      },
      "source": [
        "Preparing autoecoder output for CNN"
      ]
    },
    {
      "cell_type": "code",
      "metadata": {
        "id": "-y5dVQ7hhTZd",
        "colab_type": "code",
        "colab": {}
      },
      "source": [
        "x_train2 = x_train\n",
        "\n",
        "for i in range(0, 50000):\n",
        "  prediction = autoencoder.predict(x_train[i].reshape(1,3072))\n",
        "  x_train2[i] = prediction"
      ],
      "execution_count": null,
      "outputs": []
    },
    {
      "cell_type": "code",
      "metadata": {
        "id": "VtF9fnEphvlR",
        "colab_type": "code",
        "colab": {}
      },
      "source": [
        "x_test2 = x_test.copy()\n",
        "\n",
        "for i in range(0, 10000):\n",
        "  prediction = autoencoder.predict(x_test[i].reshape(1,3072))\n",
        "  x_test2[i] = prediction"
      ],
      "execution_count": null,
      "outputs": []
    },
    {
      "cell_type": "code",
      "metadata": {
        "id": "CgojnuAJhye1",
        "colab_type": "code",
        "colab": {
          "base_uri": "https://localhost:8080/",
          "height": 34
        },
        "outputId": "555458df-2b45-46de-f5a1-ea3d0229791c"
      },
      "source": [
        "# Change input shape from (,3072) to (,32,32,3)\n",
        "\n",
        "x_train2 = np.array(x_train2).reshape([-1, 32, 32, 3]) \n",
        "x_train2.shape"
      ],
      "execution_count": null,
      "outputs": [
        {
          "output_type": "execute_result",
          "data": {
            "text/plain": [
              "(50000, 32, 32, 3)"
            ]
          },
          "metadata": {
            "tags": []
          },
          "execution_count": 23
        }
      ]
    },
    {
      "cell_type": "code",
      "metadata": {
        "id": "C1UENL1zh5ty",
        "colab_type": "code",
        "colab": {
          "base_uri": "https://localhost:8080/",
          "height": 34
        },
        "outputId": "7b5161f2-6a02-4368-f226-8eadaa8ab2b7"
      },
      "source": [
        "\n",
        "x_test2 = np.array(x_test2).reshape([-1, 32, 32, 3]) \n",
        "x_test2.shape"
      ],
      "execution_count": null,
      "outputs": [
        {
          "output_type": "execute_result",
          "data": {
            "text/plain": [
              "(10000, 32, 32, 3)"
            ]
          },
          "metadata": {
            "tags": []
          },
          "execution_count": 24
        }
      ]
    },
    {
      "cell_type": "code",
      "metadata": {
        "id": "fL1v_qn3iKk0",
        "colab_type": "code",
        "colab": {
          "base_uri": "https://localhost:8080/",
          "height": 266
        },
        "outputId": "4eadb13f-1169-4104-9bc5-eba329ec8049"
      },
      "source": [
        "# showcase result of autoencoder on a random image from test dataset\n",
        "\n",
        "# display original\n",
        "plt.imshow(x_test[j].reshape(32,32,3))\n",
        "plt.show()"
      ],
      "execution_count": null,
      "outputs": [
        {
          "output_type": "display_data",
          "data": {
            "image/png": "[encoded data removed]",
            "text/plain": [
              "<Figure size 432x288 with 1 Axes>"
            ]
          },
          "metadata": {
            "tags": [],
            "needs_background": "light"
          }
        }
      ]
    },
    {
      "cell_type": "code",
      "metadata": {
        "id": "H5I9vNA-iVqH",
        "colab_type": "code",
        "colab": {
          "base_uri": "https://localhost:8080/",
          "height": 266
        },
        "outputId": "17c7e120-dd35-422b-c88f-0393bcd054e1"
      },
      "source": [
        "# display reconstruction\n",
        "plt.imshow(x_test2[j].reshape(32,32,3))\n",
        "plt.show()"
      ],
      "execution_count": null,
      "outputs": [
        {
          "output_type": "display_data",
          "data": {
            "image/png": "[encoded data removed]",
            "text/plain": [
              "<Figure size 432x288 with 1 Axes>"
            ]
          },
          "metadata": {
            "tags": [],
            "needs_background": "light"
          }
        }
      ]
    },
    {
      "cell_type": "code",
      "metadata": {
        "id": "2nKvNzmAiacZ",
        "colab_type": "code",
        "colab": {
          "base_uri": "https://localhost:8080/",
          "height": 295
        },
        "outputId": "8ff5a0a5-9b5b-4c31-a46d-8400f1525363"
      },
      "source": [
        "plt.plot(history.history['accuracy'])\n",
        "plt.plot(history.history['val_accuracy'])\n",
        "plt.title('model accuracy')\n",
        "plt.ylabel('accuracy')\n",
        "plt.xlabel('epoch')\n",
        "plt.legend(['train', 'test'], loc='upper left')\n",
        "plt.show()"
      ],
      "execution_count": null,
      "outputs": [
        {
          "output_type": "display_data",
          "data": {
            "image/png": "[encoded data removed]",
            "text/plain": [
              "<Figure size 432x288 with 1 Axes>"
            ]
          },
          "metadata": {
            "tags": [],
            "needs_background": "light"
          }
        }
      ]
    },
    {
      "cell_type": "code",
      "metadata": {
        "id": "E4yXfXKajlm8",
        "colab_type": "code",
        "colab": {
          "base_uri": "https://localhost:8080/",
          "height": 295
        },
        "outputId": "62d0dc30-1b9a-4839-c18b-edd46acfe34d"
      },
      "source": [
        "# summarize history for loss\n",
        "plt.plot(history.history['loss'])\n",
        "plt.plot(history.history['val_loss'])\n",
        "plt.title('model loss')\n",
        "plt.ylabel('loss')\n",
        "plt.xlabel('epoch')\n",
        "plt.legend(['train', 'test'], loc='upper left')\n",
        "plt.show()"
      ],
      "execution_count": null,
      "outputs": [
        {
          "output_type": "display_data",
          "data": {
            "image/png": "[encoded data removed]",
            "text/plain": [
              "<Figure size 432x288 with 1 Axes>"
            ]
          },
          "metadata": {
            "tags": [],
            "needs_background": "light"
          }
        }
      ]
    },
    {
      "cell_type": "markdown",
      "metadata": {
        "id": "hEiOW70rjsBh",
        "colab_type": "text"
      },
      "source": [
        "**CNN Model**\n",
        "\n",
        "\n",
        "2D convolutinal model"
      ]
    },
    {
      "cell_type": "code",
      "metadata": {
        "id": "EeBHF-ymjpZH",
        "colab_type": "code",
        "colab": {
          "base_uri": "https://localhost:8080/",
          "height": 425
        },
        "outputId": "85bf4027-57dd-49d1-a5b6-f3dea2eced54"
      },
      "source": [
        "model = models.Sequential()\n",
        "model.add(layers.Conv2D(32, (3, 3), padding='same', activation='relu', input_shape=(32,32,3), kernel_constraint=maxnorm(3)))\n",
        "model.add(layers.Dropout(0.2))\n",
        "model.add(layers.Conv2D(32, (3, 3), activation='relu', padding='same', kernel_constraint=maxnorm(3)))\n",
        "model.add(layers.MaxPooling2D(pool_size=(2, 2)))\n",
        "model.add(layers.Flatten())\n",
        "model.add(layers.Dense(512, activation='relu', kernel_constraint=maxnorm(3)))\n",
        "model.add(layers.Dropout(0.5))\n",
        "model.add(layers.Dense(num_classes, activation='softmax'))\n",
        "model.summary()"
      ],
      "execution_count": null,
      "outputs": [
        {
          "output_type": "stream",
          "text": [
            "Model: \"sequential\"\n",
            "_________________________________________________________________\n",
            "Layer (type)                 Output Shape              Param #   \n",
            "=================================================================\n",
            "conv2d (Conv2D)              (None, 32, 32, 32)        896       \n",
            "_________________________________________________________________\n",
            "dropout (Dropout)            (None, 32, 32, 32)        0         \n",
            "_________________________________________________________________\n",
            "conv2d_1 (Conv2D)            (None, 32, 32, 32)        9248      \n",
            "_________________________________________________________________\n",
            "max_pooling2d (MaxPooling2D) (None, 16, 16, 32)        0         \n",
            "_________________________________________________________________\n",
            "flatten (Flatten)            (None, 8192)              0         \n",
            "_________________________________________________________________\n",
            "dense (Dense)                (None, 512)               4194816   \n",
            "_________________________________________________________________\n",
            "dropout_1 (Dropout)          (None, 512)               0         \n",
            "_________________________________________________________________\n",
            "dense_1 (Dense)              (None, 10)                5130      \n",
            "=================================================================\n",
            "Total params: 4,210,090\n",
            "Trainable params: 4,210,090\n",
            "Non-trainable params: 0\n",
            "_________________________________________________________________\n"
          ],
          "name": "stdout"
        }
      ]
    },
    {
      "cell_type": "code",
      "metadata": {
        "id": "xAN6aRGZj0gH",
        "colab_type": "code",
        "colab": {}
      },
      "source": [
        "\n",
        "# Compile model\n",
        "epochs = 50\n",
        "lrate = 0.01\n",
        "decay = lrate/epochs\n",
        "sgd = keras.optimizers.SGD(lr=lrate, momentum=0.9, decay=decay, nesterov=False)\n",
        "model.compile(loss='categorical_crossentropy', optimizer=sgd, metrics=['accuracy'])"
      ],
      "execution_count": null,
      "outputs": []
    },
    {
      "cell_type": "code",
      "metadata": {
        "id": "NCyvKkrsj1jL",
        "colab_type": "code",
        "colab": {
          "base_uri": "https://localhost:8080/",
          "height": 1000
        },
        "outputId": "4e5579b3-39a4-4069-e75c-837e3e1d90eb"
      },
      "source": [
        "# Fit the model\n",
        "historynew = model.fit(x_train2, y_train, validation_data=(x_test2, y_test), epochs=epochs, batch_size=32)"
      ],
      "execution_count": null,
      "outputs": [
        {
          "output_type": "stream",
          "text": [
            "Epoch 1/50\n",
            "1563/1563 [==============================] - 224s 143ms/step - loss: 1.9100 - accuracy: 0.3036 - val_loss: 1.6872 - val_accuracy: 0.3988\n",
            "Epoch 2/50\n",
            "1563/1563 [==============================] - 225s 144ms/step - loss: 1.6987 - accuracy: 0.3876 - val_loss: 1.6291 - val_accuracy: 0.4165\n",
            "Epoch 3/50\n",
            "1563/1563 [==============================] - 223s 142ms/step - loss: 1.6362 - accuracy: 0.4133 - val_loss: 1.5712 - val_accuracy: 0.4353\n",
            "Epoch 4/50\n",
            "1563/1563 [==============================] - 226s 144ms/step - loss: 1.5897 - accuracy: 0.4290 - val_loss: 1.5603 - val_accuracy: 0.4466\n",
            "Epoch 5/50\n",
            "1563/1563 [==============================] - 228s 146ms/step - loss: 1.5535 - accuracy: 0.4451 - val_loss: 1.5191 - val_accuracy: 0.4603\n",
            "Epoch 6/50\n",
            "1563/1563 [==============================] - 226s 145ms/step - loss: 1.5203 - accuracy: 0.4550 - val_loss: 1.5145 - val_accuracy: 0.4590\n",
            "Epoch 7/50\n",
            "1563/1563 [==============================] - 225s 144ms/step - loss: 1.4962 - accuracy: 0.4667 - val_loss: 1.4974 - val_accuracy: 0.4642\n",
            "Epoch 8/50\n",
            "1563/1563 [==============================] - 228s 146ms/step - loss: 1.4689 - accuracy: 0.4744 - val_loss: 1.4951 - val_accuracy: 0.4688\n",
            "Epoch 9/50\n",
            "1563/1563 [==============================] - 225s 144ms/step - loss: 1.4515 - accuracy: 0.4813 - val_loss: 1.4902 - val_accuracy: 0.4744\n",
            "Epoch 10/50\n",
            "1563/1563 [==============================] - 228s 146ms/step - loss: 1.4261 - accuracy: 0.4881 - val_loss: 1.4887 - val_accuracy: 0.4761\n",
            "Epoch 11/50\n",
            "1563/1563 [==============================] - 226s 145ms/step - loss: 1.4081 - accuracy: 0.4976 - val_loss: 1.4789 - val_accuracy: 0.4743\n",
            "Epoch 12/50\n",
            "1563/1563 [==============================] - 225s 144ms/step - loss: 1.3859 - accuracy: 0.5040 - val_loss: 1.4669 - val_accuracy: 0.4745\n",
            "Epoch 13/50\n",
            "1563/1563 [==============================] - 228s 146ms/step - loss: 1.3684 - accuracy: 0.5115 - val_loss: 1.4730 - val_accuracy: 0.4834\n",
            "Epoch 14/50\n",
            "1563/1563 [==============================] - 227s 145ms/step - loss: 1.3521 - accuracy: 0.5169 - val_loss: 1.4655 - val_accuracy: 0.4814\n",
            "Epoch 15/50\n",
            "1563/1563 [==============================] - 227s 145ms/step - loss: 1.3331 - accuracy: 0.5252 - val_loss: 1.4657 - val_accuracy: 0.4864\n",
            "Epoch 16/50\n",
            "1563/1563 [==============================] - 228s 146ms/step - loss: 1.3176 - accuracy: 0.5296 - val_loss: 1.4576 - val_accuracy: 0.4883\n",
            "Epoch 17/50\n",
            "1563/1563 [==============================] - 226s 145ms/step - loss: 1.3031 - accuracy: 0.5353 - val_loss: 1.4486 - val_accuracy: 0.4974\n",
            "Epoch 18/50\n",
            "1563/1563 [==============================] - 227s 145ms/step - loss: 1.2833 - accuracy: 0.5415 - val_loss: 1.4573 - val_accuracy: 0.4917\n",
            "Epoch 19/50\n",
            "1563/1563 [==============================] - 226s 145ms/step - loss: 1.2733 - accuracy: 0.5459 - val_loss: 1.4517 - val_accuracy: 0.4959\n",
            "Epoch 20/50\n",
            "1563/1563 [==============================] - 226s 145ms/step - loss: 1.2557 - accuracy: 0.5516 - val_loss: 1.4560 - val_accuracy: 0.4905\n",
            "Epoch 21/50\n",
            "1563/1563 [==============================] - 228s 146ms/step - loss: 1.2415 - accuracy: 0.5556 - val_loss: 1.4552 - val_accuracy: 0.4953\n",
            "Epoch 22/50\n",
            "1563/1563 [==============================] - 227s 145ms/step - loss: 1.2304 - accuracy: 0.5594 - val_loss: 1.4572 - val_accuracy: 0.4961\n",
            "Epoch 23/50\n",
            "1563/1563 [==============================] - 226s 145ms/step - loss: 1.2089 - accuracy: 0.5665 - val_loss: 1.4612 - val_accuracy: 0.4964\n",
            "Epoch 24/50\n",
            "1563/1563 [==============================] - 229s 146ms/step - loss: 1.1967 - accuracy: 0.5734 - val_loss: 1.4730 - val_accuracy: 0.4975\n",
            "Epoch 25/50\n",
            "1563/1563 [==============================] - 228s 146ms/step - loss: 1.1856 - accuracy: 0.5749 - val_loss: 1.4695 - val_accuracy: 0.4943\n",
            "Epoch 26/50\n",
            "1563/1563 [==============================] - 230s 147ms/step - loss: 1.1726 - accuracy: 0.5805 - val_loss: 1.4818 - val_accuracy: 0.4947\n",
            "Epoch 27/50\n",
            "1563/1563 [==============================] - 228s 146ms/step - loss: 1.1566 - accuracy: 0.5831 - val_loss: 1.4712 - val_accuracy: 0.4994\n",
            "Epoch 28/50\n",
            "1563/1563 [==============================] - 228s 146ms/step - loss: 1.1470 - accuracy: 0.5882 - val_loss: 1.4895 - val_accuracy: 0.5020\n",
            "Epoch 29/50\n",
            "1563/1563 [==============================] - 230s 147ms/step - loss: 1.1337 - accuracy: 0.5936 - val_loss: 1.4819 - val_accuracy: 0.4996\n",
            "Epoch 30/50\n",
            "1563/1563 [==============================] - 228s 146ms/step - loss: 1.1185 - accuracy: 0.6011 - val_loss: 1.4909 - val_accuracy: 0.4991\n",
            "Epoch 31/50\n",
            "1563/1563 [==============================] - 230s 147ms/step - loss: 1.1060 - accuracy: 0.6035 - val_loss: 1.4952 - val_accuracy: 0.5022\n",
            "Epoch 32/50\n",
            "1563/1563 [==============================] - 231s 148ms/step - loss: 1.0962 - accuracy: 0.6064 - val_loss: 1.4990 - val_accuracy: 0.5011\n",
            "Epoch 33/50\n",
            "1563/1563 [==============================] - 229s 146ms/step - loss: 1.0860 - accuracy: 0.6068 - val_loss: 1.4945 - val_accuracy: 0.4998\n",
            "Epoch 34/50\n",
            "1563/1563 [==============================] - 231s 148ms/step - loss: 1.0685 - accuracy: 0.6142 - val_loss: 1.5129 - val_accuracy: 0.4977\n",
            "Epoch 35/50\n",
            "1563/1563 [==============================] - 229s 147ms/step - loss: 1.0628 - accuracy: 0.6186 - val_loss: 1.5321 - val_accuracy: 0.4964\n",
            "Epoch 36/50\n",
            "1563/1563 [==============================] - 229s 146ms/step - loss: 1.0480 - accuracy: 0.6202 - val_loss: 1.5290 - val_accuracy: 0.4994\n",
            "Epoch 37/50\n",
            "1563/1563 [==============================] - 231s 148ms/step - loss: 1.0408 - accuracy: 0.6239 - val_loss: 1.5297 - val_accuracy: 0.4970\n",
            "Epoch 38/50\n",
            "1563/1563 [==============================] - 230s 147ms/step - loss: 1.0305 - accuracy: 0.6292 - val_loss: 1.5278 - val_accuracy: 0.5002\n",
            "Epoch 39/50\n",
            "1563/1563 [==============================] - 230s 147ms/step - loss: 1.0194 - accuracy: 0.6316 - val_loss: 1.5331 - val_accuracy: 0.5020\n",
            "Epoch 40/50\n",
            "1563/1563 [==============================] - 263s 168ms/step - loss: 0.9988 - accuracy: 0.6405 - val_loss: 1.5495 - val_accuracy: 0.4993\n",
            "Epoch 41/50\n",
            "1563/1563 [==============================] - 259s 166ms/step - loss: 0.9935 - accuracy: 0.6417 - val_loss: 1.5679 - val_accuracy: 0.4979\n",
            "Epoch 42/50\n",
            "1563/1563 [==============================] - 247s 158ms/step - loss: 0.9911 - accuracy: 0.6436 - val_loss: 1.5469 - val_accuracy: 0.5044\n",
            "Epoch 43/50\n",
            "1563/1563 [==============================] - 232s 148ms/step - loss: 0.9709 - accuracy: 0.6487 - val_loss: 1.5668 - val_accuracy: 0.5041\n",
            "Epoch 44/50\n",
            "1563/1563 [==============================] - 234s 150ms/step - loss: 0.9657 - accuracy: 0.6528 - val_loss: 1.5589 - val_accuracy: 0.5001\n",
            "Epoch 45/50\n",
            "1563/1563 [==============================] - 252s 161ms/step - loss: 0.9567 - accuracy: 0.6562 - val_loss: 1.5567 - val_accuracy: 0.4999\n",
            "Epoch 46/50\n",
            "1563/1563 [==============================] - 258s 165ms/step - loss: 0.9424 - accuracy: 0.6608 - val_loss: 1.5820 - val_accuracy: 0.4999\n",
            "Epoch 47/50\n",
            "1563/1563 [==============================] - 260s 166ms/step - loss: 0.9356 - accuracy: 0.6632 - val_loss: 1.5898 - val_accuracy: 0.5030\n",
            "Epoch 48/50\n",
            "1563/1563 [==============================] - 257s 165ms/step - loss: 0.9232 - accuracy: 0.6675 - val_loss: 1.6064 - val_accuracy: 0.5043\n",
            "Epoch 49/50\n",
            "1563/1563 [==============================] - 260s 167ms/step - loss: 0.9139 - accuracy: 0.6674 - val_loss: 1.5987 - val_accuracy: 0.4998\n",
            "Epoch 50/50\n",
            "1563/1563 [==============================] - 259s 166ms/step - loss: 0.9087 - accuracy: 0.6690 - val_loss: 1.6147 - val_accuracy: 0.4999\n"
          ],
          "name": "stdout"
        }
      ]
    },
    {
      "cell_type": "code",
      "metadata": {
        "id": "SH-w9kd5j4yP",
        "colab_type": "code",
        "colab": {
          "base_uri": "https://localhost:8080/",
          "height": 34
        },
        "outputId": "6db6bd08-91b9-46e4-8958-b09dd9d27c46"
      },
      "source": [
        "# Final evaluation of the model\n",
        "scores = model.evaluate(x_test2, y_test, verbose=0)\n",
        "print(\"Accuracy: %.2f%%\" % (scores[1]*100))"
      ],
      "execution_count": null,
      "outputs": [
        {
          "output_type": "stream",
          "text": [
            "Accuracy: 49.99%\n"
          ],
          "name": "stdout"
        }
      ]
    },
    {
      "cell_type": "code",
      "metadata": {
        "id": "wOZXaFl5j8kt",
        "colab_type": "code",
        "colab": {
          "base_uri": "https://localhost:8080/",
          "height": 312
        },
        "outputId": "cb8c7d78-6840-4bbc-8e72-f28e6e959d56"
      },
      "source": [
        "plt.figure()\n",
        "plt.plot(np.arange(0, 50), historynew.history[\"val_loss\"], label=\"validation loss\")\n",
        "plt.plot(np.arange(0, 50), historynew.history[\"val_accuracy\"], label=\"validation accuracy\")\n",
        "plt.plot(np.arange(0, 50), historynew.history[\"loss\"], label=\"training Loss\")\n",
        "plt.plot(np.arange(0, 50), historynew.history[\"accuracy\"], label=\"training accuracy\")\n",
        "plt.title(\"the loss and accuracy for both training data and validation data\")\n",
        "plt.xlabel(\"Epoch 50\")\n",
        "plt.ylabel(\"Loss/Accuracy\")\n",
        "plt.legend(loc=\"best\")"
      ],
      "execution_count": null,
      "outputs": [
        {
          "output_type": "execute_result",
          "data": {
            "text/plain": [
              "<matplotlib.legend.Legend at 0x7fba38b4c4e0>"
            ]
          },
          "metadata": {
            "tags": []
          },
          "execution_count": 36
        },
        {
          "output_type": "display_data",
          "data": {
            "image/png": "[encoded data removed]",
            "text/plain": [
              "<Figure size 432x288 with 1 Axes>"
            ]
          },
          "metadata": {
            "tags": [],
            "needs_background": "light"
          }
        }
      ]
    },
    {
      "cell_type": "markdown",
      "metadata": {
        "id": "VXJGmwxJNuDT",
        "colab_type": "text"
      },
      "source": [
        "**PCA + CNN**"
      ]
    },
    {
      "cell_type": "code",
      "metadata": {
        "id": "e-Bvsh2qNzQC",
        "colab_type": "code",
        "colab": {}
      },
      "source": [
        "x_train = x_train.reshape(-1, 3072)\n",
        "x_test = x_test.reshape(-1, 3072)"
      ],
      "execution_count": null,
      "outputs": []
    },
    {
      "cell_type": "code",
      "metadata": {
        "id": "YWx33oGVQePx",
        "colab_type": "code",
        "colab": {
          "base_uri": "https://localhost:8080/",
          "height": 51
        },
        "outputId": "6380a17c-f82f-4981-9055-351774420882"
      },
      "source": [
        "print(x_train.shape)\n",
        "print(x_test.shape)"
      ],
      "execution_count": null,
      "outputs": [
        {
          "output_type": "stream",
          "text": [
            "(50000, 3072)\n",
            "(10000, 3072)\n"
          ],
          "name": "stdout"
        }
      ]
    },
    {
      "cell_type": "markdown",
      "metadata": {
        "id": "3jvip864Qk-_",
        "colab_type": "text"
      },
      "source": [
        "Apply standard scaler to data"
      ]
    },
    {
      "cell_type": "code",
      "metadata": {
        "id": "C--CqUXrQiU5",
        "colab_type": "code",
        "colab": {}
      },
      "source": [
        "stdscale_train = x_train\n",
        "stdscale_test = x_test"
      ],
      "execution_count": null,
      "outputs": []
    },
    {
      "cell_type": "code",
      "metadata": {
        "id": "wdYhVRTAQorw",
        "colab_type": "code",
        "colab": {}
      },
      "source": [
        "standardscaler = StandardScaler()"
      ],
      "execution_count": null,
      "outputs": []
    },
    {
      "cell_type": "markdown",
      "metadata": {
        "id": "JArgdyoBQtIT",
        "colab_type": "text"
      },
      "source": [
        "PCA "
      ]
    },
    {
      "cell_type": "code",
      "metadata": {
        "id": "tLGwkoS6QqfC",
        "colab_type": "code",
        "colab": {}
      },
      "source": [
        "pca = PCA()"
      ],
      "execution_count": null,
      "outputs": []
    },
    {
      "cell_type": "code",
      "metadata": {
        "id": "HPpvE0Q5QwEW",
        "colab_type": "code",
        "colab": {
          "base_uri": "https://localhost:8080/",
          "height": 51
        },
        "outputId": "35e047c5-9c0a-47c2-8336-cee06f4aa8ed"
      },
      "source": [
        "pca.fit(stdscale_train)"
      ],
      "execution_count": null,
      "outputs": [
        {
          "output_type": "execute_result",
          "data": {
            "text/plain": [
              "PCA(copy=True, iterated_power='auto', n_components=None, random_state=None,\n",
              "    svd_solver='auto', tol=0.0, whiten=False)"
            ]
          },
          "metadata": {
            "tags": []
          },
          "execution_count": 44
        }
      ]
    },
    {
      "cell_type": "code",
      "metadata": {
        "id": "-YbFZ3UuQyNk",
        "colab_type": "code",
        "colab": {
          "base_uri": "https://localhost:8080/",
          "height": 34
        },
        "outputId": "d3db6290-14d4-4759-9340-1a98ed67cfde"
      },
      "source": [
        "pca.n_components_"
      ],
      "execution_count": null,
      "outputs": [
        {
          "output_type": "execute_result",
          "data": {
            "text/plain": [
              "3072"
            ]
          },
          "metadata": {
            "tags": []
          },
          "execution_count": 45
        }
      ]
    },
    {
      "cell_type": "code",
      "metadata": {
        "id": "-a9TOsoHQ0Fb",
        "colab_type": "code",
        "colab": {
          "base_uri": "https://localhost:8080/",
          "height": 51
        },
        "outputId": "201b223d-446a-432b-e42c-8854c863588a"
      },
      "source": [
        "pca.explained_variance_"
      ],
      "execution_count": null,
      "outputs": [
        {
          "output_type": "execute_result",
          "data": {
            "text/plain": [
              "array([4.54757193e+01, 2.01243187e+01, 1.13643690e+01, ...,\n",
              "       3.54224980e-07, 3.51079342e-07, 3.45064901e-07])"
            ]
          },
          "metadata": {
            "tags": []
          },
          "execution_count": 46
        }
      ]
    },
    {
      "cell_type": "code",
      "metadata": {
        "id": "AqaYZkN4Q6Q8",
        "colab_type": "code",
        "colab": {
          "base_uri": "https://localhost:8080/",
          "height": 34
        },
        "outputId": "2d97f95a-bf21-4e66-ea27-833bdfde5124"
      },
      "source": [
        "pca.explained_variance_.shape"
      ],
      "execution_count": null,
      "outputs": [
        {
          "output_type": "execute_result",
          "data": {
            "text/plain": [
              "(3072,)"
            ]
          },
          "metadata": {
            "tags": []
          },
          "execution_count": 47
        }
      ]
    },
    {
      "cell_type": "code",
      "metadata": {
        "id": "XQa5zDlrQ_rT",
        "colab_type": "code",
        "colab": {}
      },
      "source": [
        "x_train_pca = pca.transform(stdscale_train)\n",
        "x_test_pca = pca.transform(stdscale_test)"
      ],
      "execution_count": null,
      "outputs": []
    },
    {
      "cell_type": "code",
      "metadata": {
        "id": "KUcnBnUZRAnz",
        "colab_type": "code",
        "colab": {}
      },
      "source": [
        "x_train_pca = x_train_pca.reshape(-1, 32,32,3)\n",
        "x_test_pca = x_test_pca.reshape(-1, 32,32,3)"
      ],
      "execution_count": null,
      "outputs": []
    },
    {
      "cell_type": "code",
      "metadata": {
        "id": "LRV8tW_PRD1L",
        "colab_type": "code",
        "colab": {
          "base_uri": "https://localhost:8080/",
          "height": 51
        },
        "outputId": "a90d94f6-1213-4280-c727-94299acb8014"
      },
      "source": [
        "print(x_train_pca.shape)\n",
        "print(x_test_pca.shape)"
      ],
      "execution_count": null,
      "outputs": [
        {
          "output_type": "stream",
          "text": [
            "(50000, 32, 32, 3)\n",
            "(10000, 32, 32, 3)\n"
          ],
          "name": "stdout"
        }
      ]
    },
    {
      "cell_type": "code",
      "metadata": {
        "id": "7PO2W7-oRJ-6",
        "colab_type": "code",
        "colab": {
          "base_uri": "https://localhost:8080/",
          "height": 425
        },
        "outputId": "46954f08-54fd-4716-c328-ec76f89c5c61"
      },
      "source": [
        "model1 = models.Sequential()\n",
        "model1.add(layers.Conv2D(32, (3, 3), padding='same', activation='relu', input_shape=(32,32,3), kernel_constraint=maxnorm(3)))\n",
        "model1.add(layers.Dropout(0.2))\n",
        "model1.add(layers.Conv2D(32, (3, 3), activation='relu', padding='same', kernel_constraint=maxnorm(3)))\n",
        "model1.add(layers.MaxPooling2D(pool_size=(2, 2)))\n",
        "model1.add(layers.Flatten())\n",
        "model1.add(layers.Dense(512, activation='relu', kernel_constraint=maxnorm(3)))\n",
        "model1.add(layers.Dropout(0.5))\n",
        "model1.add(layers.Dense(num_classes, activation='softmax'))\n",
        "model1.summary()"
      ],
      "execution_count": null,
      "outputs": [
        {
          "output_type": "stream",
          "text": [
            "Model: \"sequential_1\"\n",
            "_________________________________________________________________\n",
            "Layer (type)                 Output Shape              Param #   \n",
            "=================================================================\n",
            "conv2d_2 (Conv2D)            (None, 32, 32, 32)        896       \n",
            "_________________________________________________________________\n",
            "dropout_2 (Dropout)          (None, 32, 32, 32)        0         \n",
            "_________________________________________________________________\n",
            "conv2d_3 (Conv2D)            (None, 32, 32, 32)        9248      \n",
            "_________________________________________________________________\n",
            "max_pooling2d_1 (MaxPooling2 (None, 16, 16, 32)        0         \n",
            "_________________________________________________________________\n",
            "flatten_1 (Flatten)          (None, 8192)              0         \n",
            "_________________________________________________________________\n",
            "dense_2 (Dense)              (None, 512)               4194816   \n",
            "_________________________________________________________________\n",
            "dropout_3 (Dropout)          (None, 512)               0         \n",
            "_________________________________________________________________\n",
            "dense_3 (Dense)              (None, 10)                5130      \n",
            "=================================================================\n",
            "Total params: 4,210,090\n",
            "Trainable params: 4,210,090\n",
            "Non-trainable params: 0\n",
            "_________________________________________________________________\n"
          ],
          "name": "stdout"
        }
      ]
    },
    {
      "cell_type": "code",
      "metadata": {
        "id": "tJSmbAxLRQoq",
        "colab_type": "code",
        "colab": {}
      },
      "source": [
        "epochs = 5\n",
        "lrate = 0.01\n",
        "decay = lrate/epochs\n",
        "sgd = keras.optimizers.SGD(lr=lrate, momentum=0.9, decay=decay, nesterov=False)\n",
        "model1.compile(loss='categorical_crossentropy', optimizer=sgd, metrics=['accuracy'])"
      ],
      "execution_count": null,
      "outputs": []
    },
    {
      "cell_type": "code",
      "metadata": {
        "id": "7ISUvAmXRVGA",
        "colab_type": "code",
        "colab": {
          "base_uri": "https://localhost:8080/",
          "height": 207
        },
        "outputId": "ece66131-abbe-4b7f-8703-55dd5eb357d4"
      },
      "source": [
        "historynew1 = model1.fit(x_train_pca, y_train, validation_data=(x_test_pca, y_test), epochs=epochs, batch_size=32)"
      ],
      "execution_count": null,
      "outputs": [
        {
          "output_type": "stream",
          "text": [
            "Epoch 1/5\n",
            "1563/1563 [==============================] - 258s 165ms/step - loss: 1.8541 - accuracy: 0.3325 - val_loss: 1.7286 - val_accuracy: 0.3795\n",
            "Epoch 2/5\n",
            "1563/1563 [==============================] - 258s 165ms/step - loss: 1.7113 - accuracy: 0.3853 - val_loss: 1.7005 - val_accuracy: 0.3954\n",
            "Epoch 3/5\n",
            "1563/1563 [==============================] - 259s 166ms/step - loss: 1.6693 - accuracy: 0.3983 - val_loss: 1.6569 - val_accuracy: 0.4079\n",
            "Epoch 4/5\n",
            "1563/1563 [==============================] - 239s 153ms/step - loss: 1.6490 - accuracy: 0.4084 - val_loss: 1.6754 - val_accuracy: 0.4012\n",
            "Epoch 5/5\n",
            "1563/1563 [==============================] - 232s 148ms/step - loss: 1.6303 - accuracy: 0.4141 - val_loss: 1.6802 - val_accuracy: 0.4012\n"
          ],
          "name": "stdout"
        }
      ]
    },
    {
      "cell_type": "code",
      "metadata": {
        "id": "nngrTOm8Rkxd",
        "colab_type": "code",
        "colab": {
          "base_uri": "https://localhost:8080/",
          "height": 34
        },
        "outputId": "72889b4d-225a-4c0c-b5d4-2aae523e9d4b"
      },
      "source": [
        "# Final evaluation of the model\n",
        "scores = model1.evaluate(x_test_pca, y_test, verbose=0)\n",
        "print(\"Accuracy: %.2f%%\" % (scores[1]*100))"
      ],
      "execution_count": null,
      "outputs": [
        {
          "output_type": "stream",
          "text": [
            "Accuracy: 10.59%\n"
          ],
          "name": "stdout"
        }
      ]
    },
    {
      "cell_type": "code",
      "metadata": {
        "id": "3bMRwJrCRoi_",
        "colab_type": "code",
        "colab": {
          "base_uri": "https://localhost:8080/",
          "height": 312
        },
        "outputId": "ce712464-2cc9-4e0d-ac8c-4567641a68fa"
      },
      "source": [
        "plt.figure()\n",
        "plt.plot( historynew1.history[\"val_loss\"], label=\"validation loss\")\n",
        "plt.plot( historynew1.history[\"val_accuracy\"], label=\"validation accuracy\")\n",
        "plt.plot( historynew1.history[\"loss\"], label=\"training Loss\")\n",
        "plt.plot( historynew1.history[\"accuracy\"], label=\"training accuracy\")\n",
        "plt.title(\"the loss and accuracy for both training data and validation data\")\n",
        "plt.xlabel(\"Epoch #\")\n",
        "plt.ylabel(\"Loss/Accuracy\")\n",
        "plt.legend(loc=\"best\")\n",
        "# historynew1.history"
      ],
      "execution_count": null,
      "outputs": [
        {
          "output_type": "execute_result",
          "data": {
            "text/plain": [
              "<matplotlib.legend.Legend at 0x7fba3297f748>"
            ]
          },
          "metadata": {
            "tags": []
          },
          "execution_count": 60
        },
        {
          "output_type": "display_data",
          "data": {
            "image/png": "[encoded data removed]",
            "text/plain": [
              "<Figure size 432x288 with 1 Axes>"
            ]
          },
          "metadata": {
            "tags": [],
            "needs_background": "light"
          }
        }
      ]
    }
  ]
}