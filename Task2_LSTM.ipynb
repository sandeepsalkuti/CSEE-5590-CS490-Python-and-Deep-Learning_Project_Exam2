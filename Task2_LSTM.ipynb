{
  "nbformat": 4,
  "nbformat_minor": 0,
  "metadata": {
    "colab": {
      "name": "Task2-LSTM.ipynb",
      "provenance": []
    },
    "kernelspec": {
      "name": "python3",
      "display_name": "Python 3"
    },
    "accelerator": "GPU"
  },
  "cells": [
    {
      "cell_type": "code",
      "metadata": {
        "id": "lfjrj3iDVkcp",
        "colab_type": "code",
        "colab": {
          "base_uri": "https://localhost:8080/",
          "height": 34
        },
        "outputId": "8965cac4-c06f-46d4-cda5-6d8bcc0a384f"
      },
      "source": [
        "from sklearn.datasets import fetch_20newsgroups\n",
        "from keras.preprocessing.text import Tokenizer\n",
        "from keras.preprocessing.sequence import pad_sequences\n",
        "import keras\n",
        "from keras.layers import Embedding, Dense, LSTM, GRU\n",
        "from keras.models import Sequential\n",
        "from sklearn.model_selection import train_test_split, StratifiedShuffleSplit\n",
        "import string"
      ],
      "execution_count": 2,
      "outputs": [
        {
          "output_type": "stream",
          "text": [
            "Using TensorFlow backend.\n"
          ],
          "name": "stderr"
        }
      ]
    },
    {
      "cell_type": "code",
      "metadata": {
        "id": "hX9sZ2Y5VlPS",
        "colab_type": "code",
        "colab": {
          "base_uri": "https://localhost:8080/",
          "height": 51
        },
        "outputId": "66e10274-db2c-43c4-d261-d7774559f5a3"
      },
      "source": [
        "categories = ['comp.sys.mac.hardware',\n",
        " 'comp.windows.x',\n",
        " 'misc.forsale',\n",
        " 'rec.autos',\n",
        "'soc.religion.christian',\n",
        " 'talk.politics.guns',\n",
        " 'talk.politics.mideast']\n",
        "# Prepare train and test data\n",
        "data = fetch_20newsgroups(shuffle=True, subset='train', categories=categories)\n",
        "test = fetch_20newsgroups(shuffle=True, subset='test', categories=categories)\n",
        "news, news_topics, _classes = data.data, data.target, data.target_names"
      ],
      "execution_count": 3,
      "outputs": [
        {
          "output_type": "stream",
          "text": [
            "Downloading 20news dataset. This may take a few minutes.\n",
            "Downloading dataset from https://ndownloader.figshare.com/files/5975967 (14 MB)\n"
          ],
          "name": "stderr"
        }
      ]
    },
    {
      "cell_type": "code",
      "metadata": {
        "id": "oT6btFuYVn87",
        "colab_type": "code",
        "colab": {}
      },
      "source": [
        "# Tokenize the sentences into words (1000)\n",
        "words = 10000\n",
        "tokenizer = Tokenizer(num_words=words)\n",
        "tokenizer.fit_on_texts(news)\n",
        "sequences = Tokenizer.texts_to_sequences(tokenizer, news)"
      ],
      "execution_count": 4,
      "outputs": []
    },
    {
      "cell_type": "code",
      "metadata": {
        "id": "RXfLkHOJVrdn",
        "colab_type": "code",
        "colab": {
          "base_uri": "https://localhost:8080/",
          "height": 68
        },
        "outputId": "74b63aad-d5a9-4261-8da0-c5b6592282b5"
      },
      "source": [
        "word_index = tokenizer.word_index\n",
        "print('Found %s unique tokens.' % len(word_index))\n",
        "max_length = 1000\n",
        "X = pad_sequences(sequences, maxlen=max_length)\n",
        "Y = keras.utils.to_categorical(news_topics)\n",
        "\n",
        "print('Shape of data tensor:', X.shape)\n",
        "print('Shape of label tensor:', Y.shape)"
      ],
      "execution_count": 5,
      "outputs": [
        {
          "output_type": "stream",
          "text": [
            "Found 55199 unique tokens.\n",
            "Shape of data tensor: (4059, 1000)\n",
            "Shape of label tensor: (4059, 7)\n"
          ],
          "name": "stdout"
        }
      ]
    },
    {
      "cell_type": "code",
      "metadata": {
        "id": "oIiuNu34Vrp8",
        "colab_type": "code",
        "colab": {
          "base_uri": "https://localhost:8080/",
          "height": 34
        },
        "outputId": "eab7dd52-3554-4947-d9d7-76130cef1f53"
      },
      "source": [
        "X_train, X_valid, y_train, y_valid = train_test_split(X, Y, test_size=0.2)\n",
        "len(word_index)"
      ],
      "execution_count": 6,
      "outputs": [
        {
          "output_type": "execute_result",
          "data": {
            "text/plain": [
              "55199"
            ]
          },
          "metadata": {
            "tags": []
          },
          "execution_count": 6
        }
      ]
    },
    {
      "cell_type": "code",
      "metadata": {
        "id": "59qVTpEoVrtL",
        "colab_type": "code",
        "colab": {
          "base_uri": "https://localhost:8080/",
          "height": 306
        },
        "outputId": "662e6ff2-fc61-4551-c774-dbd3dbbb06c6"
      },
      "source": [
        "embedding_length = 64\n",
        "model = Sequential()\n",
        "model.add(LSTM(100, return_sequences=True,input_shape=(1, max_length)))\n",
        "model.add(LSTM(100, dropout_W=0.25))\n",
        "model.add(Dense(7, activation='softmax'))\n",
        "model.compile(loss='binary_crossentropy', optimizer='adam', metrics=['accuracy'])\n",
        "print(model.summary())"
      ],
      "execution_count": 7,
      "outputs": [
        {
          "output_type": "stream",
          "text": [
            "Model: \"sequential_1\"\n",
            "_________________________________________________________________\n",
            "Layer (type)                 Output Shape              Param #   \n",
            "=================================================================\n",
            "lstm_1 (LSTM)                (None, 1, 100)            440400    \n",
            "_________________________________________________________________\n",
            "lstm_2 (LSTM)                (None, 100)               80400     \n",
            "_________________________________________________________________\n",
            "dense_1 (Dense)              (None, 7)                 707       \n",
            "=================================================================\n",
            "Total params: 521,507\n",
            "Trainable params: 521,507\n",
            "Non-trainable params: 0\n",
            "_________________________________________________________________\n",
            "None\n"
          ],
          "name": "stdout"
        },
        {
          "output_type": "stream",
          "text": [
            "/usr/local/lib/python3.6/dist-packages/ipykernel_launcher.py:4: UserWarning: Update your `LSTM` call to the Keras 2 API: `LSTM(100, dropout=0.25)`\n",
            "  after removing the cwd from sys.path.\n"
          ],
          "name": "stderr"
        }
      ]
    },
    {
      "cell_type": "code",
      "metadata": {
        "id": "KWprQUZLVrwN",
        "colab_type": "code",
        "colab": {
          "base_uri": "https://localhost:8080/",
          "height": 34
        },
        "outputId": "d30f0192-c001-4235-d5eb-0da5ccc63a54"
      },
      "source": [
        "X_train.shape, y_train.shape, X_valid.shape, y_valid.shape"
      ],
      "execution_count": 8,
      "outputs": [
        {
          "output_type": "execute_result",
          "data": {
            "text/plain": [
              "((3247, 1000), (3247, 7), (812, 1000), (812, 7))"
            ]
          },
          "metadata": {
            "tags": []
          },
          "execution_count": 8
        }
      ]
    },
    {
      "cell_type": "code",
      "metadata": {
        "id": "G1wF0fpfVrzU",
        "colab_type": "code",
        "colab": {
          "base_uri": "https://localhost:8080/",
          "height": 34
        },
        "outputId": "78453370-a2cf-4c7e-fe1e-1d674aee85cf"
      },
      "source": [
        "import numpy as np\n",
        "X_train = np.reshape(X_train, (X_train.shape[0], 1 , X_train.shape[1]))\n",
        "X_valid = np.reshape(X_valid, (X_valid.shape[0], 1, X_valid.shape[1]))\n",
        "X_train.shape, y_train.shape, X_valid.shape, y_valid.shape"
      ],
      "execution_count": 9,
      "outputs": [
        {
          "output_type": "execute_result",
          "data": {
            "text/plain": [
              "((3247, 1, 1000), (3247, 7), (812, 1, 1000), (812, 7))"
            ]
          },
          "metadata": {
            "tags": []
          },
          "execution_count": 9
        }
      ]
    },
    {
      "cell_type": "code",
      "metadata": {
        "id": "j4B5XHQ5Vr2W",
        "colab_type": "code",
        "colab": {
          "base_uri": "https://localhost:8080/",
          "height": 714
        },
        "outputId": "035757b2-f6f4-4a56-a0ee-1a33b0ea52d5"
      },
      "source": [
        "history=model.fit(X_train, y_train, epochs=20,verbose=True, validation_data=(X_valid,y_valid), batch_size=64)"
      ],
      "execution_count": 10,
      "outputs": [
        {
          "output_type": "stream",
          "text": [
            "Train on 3247 samples, validate on 812 samples\n",
            "Epoch 1/20\n",
            "3247/3247 [==============================] - 3s 887us/step - loss: 0.4098 - accuracy: 0.8571 - val_loss: 0.4087 - val_accuracy: 0.8571\n",
            "Epoch 2/20\n",
            "3247/3247 [==============================] - 1s 158us/step - loss: 0.4057 - accuracy: 0.8571 - val_loss: 0.4035 - val_accuracy: 0.8571\n",
            "Epoch 3/20\n",
            "3247/3247 [==============================] - 1s 169us/step - loss: 0.4005 - accuracy: 0.8571 - val_loss: 0.3986 - val_accuracy: 0.8571\n",
            "Epoch 4/20\n",
            "3247/3247 [==============================] - 1s 157us/step - loss: 0.3955 - accuracy: 0.8571 - val_loss: 0.3960 - val_accuracy: 0.8571\n",
            "Epoch 5/20\n",
            "3247/3247 [==============================] - 1s 164us/step - loss: 0.3948 - accuracy: 0.8571 - val_loss: 0.3978 - val_accuracy: 0.8571\n",
            "Epoch 6/20\n",
            "3247/3247 [==============================] - 1s 162us/step - loss: 0.3942 - accuracy: 0.8571 - val_loss: 0.3981 - val_accuracy: 0.8571\n",
            "Epoch 7/20\n",
            "3247/3247 [==============================] - 1s 170us/step - loss: 0.3942 - accuracy: 0.8572 - val_loss: 0.3963 - val_accuracy: 0.8571\n",
            "Epoch 8/20\n",
            "3247/3247 [==============================] - 1s 162us/step - loss: 0.3927 - accuracy: 0.8571 - val_loss: 0.3970 - val_accuracy: 0.8571\n",
            "Epoch 9/20\n",
            "3247/3247 [==============================] - 1s 168us/step - loss: 0.3917 - accuracy: 0.8571 - val_loss: 0.3992 - val_accuracy: 0.8571\n",
            "Epoch 10/20\n",
            "3247/3247 [==============================] - 1s 160us/step - loss: 0.3919 - accuracy: 0.8572 - val_loss: 0.3977 - val_accuracy: 0.8571\n",
            "Epoch 11/20\n",
            "3247/3247 [==============================] - 1s 168us/step - loss: 0.3918 - accuracy: 0.8572 - val_loss: 0.3964 - val_accuracy: 0.8571\n",
            "Epoch 12/20\n",
            "3247/3247 [==============================] - 1s 160us/step - loss: 0.3920 - accuracy: 0.8571 - val_loss: 0.3961 - val_accuracy: 0.8571\n",
            "Epoch 13/20\n",
            "3247/3247 [==============================] - 1s 164us/step - loss: 0.3901 - accuracy: 0.8575 - val_loss: 0.3970 - val_accuracy: 0.8570\n",
            "Epoch 14/20\n",
            "3247/3247 [==============================] - 1s 168us/step - loss: 0.3905 - accuracy: 0.8575 - val_loss: 0.3956 - val_accuracy: 0.8570\n",
            "Epoch 15/20\n",
            "3247/3247 [==============================] - 1s 168us/step - loss: 0.3899 - accuracy: 0.8574 - val_loss: 0.3947 - val_accuracy: 0.8571\n",
            "Epoch 16/20\n",
            "3247/3247 [==============================] - 1s 168us/step - loss: 0.3898 - accuracy: 0.8578 - val_loss: 0.3967 - val_accuracy: 0.8573\n",
            "Epoch 17/20\n",
            "3247/3247 [==============================] - 1s 166us/step - loss: 0.3897 - accuracy: 0.8574 - val_loss: 0.3964 - val_accuracy: 0.8573\n",
            "Epoch 18/20\n",
            "3247/3247 [==============================] - 1s 165us/step - loss: 0.3877 - accuracy: 0.8574 - val_loss: 0.3960 - val_accuracy: 0.8573\n",
            "Epoch 19/20\n",
            "3247/3247 [==============================] - 1s 159us/step - loss: 0.3878 - accuracy: 0.8575 - val_loss: 0.3959 - val_accuracy: 0.8568\n",
            "Epoch 20/20\n",
            "3247/3247 [==============================] - 1s 173us/step - loss: 0.3882 - accuracy: 0.8574 - val_loss: 0.3960 - val_accuracy: 0.8566\n"
          ],
          "name": "stdout"
        }
      ]
    },
    {
      "cell_type": "code",
      "metadata": {
        "id": "_EivSJSFVr5j",
        "colab_type": "code",
        "colab": {
          "base_uri": "https://localhost:8080/",
          "height": 68
        },
        "outputId": "4ccafed0-e5ff-4cb4-ab94-3331a913db37"
      },
      "source": [
        "Loss,Accuracy = model.evaluate(X_valid, y_valid)\n",
        "print(\"Loss value before adding embedding layer :\", Loss)\n",
        "print(\"Accuracy value before adding embedding layer:\",Accuracy)"
      ],
      "execution_count": 11,
      "outputs": [
        {
          "output_type": "stream",
          "text": [
            "812/812 [==============================] - 0s 76us/step\n",
            "Loss value before adding embedding layer : 0.3960046523016662\n",
            "Accuracy value before adding embedding layer: 0.8566150665283203\n"
          ],
          "name": "stdout"
        }
      ]
    },
    {
      "cell_type": "code",
      "metadata": {
        "id": "Vn6bkBxNVr8b",
        "colab_type": "code",
        "colab": {
          "base_uri": "https://localhost:8080/",
          "height": 34
        },
        "outputId": "911e2f60-be3b-4632-b2bf-f9c2e5744bc4"
      },
      "source": [
        "X_train1, X_valid1, y_train1, y_valid1 = train_test_split(X, Y, test_size=0.2)\n",
        "X_train1.shape, y_train1.shape, X_valid1.shape, y_valid1.shape"
      ],
      "execution_count": 12,
      "outputs": [
        {
          "output_type": "execute_result",
          "data": {
            "text/plain": [
              "((3247, 1000), (3247, 7), (812, 1000), (812, 7))"
            ]
          },
          "metadata": {
            "tags": []
          },
          "execution_count": 12
        }
      ]
    },
    {
      "cell_type": "code",
      "metadata": {
        "id": "nCa4TkF1Vr_j",
        "colab_type": "code",
        "colab": {
          "base_uri": "https://localhost:8080/",
          "height": 306
        },
        "outputId": "0eaac663-c5cc-46fb-8f71-f058ebf0ad60"
      },
      "source": [
        "model1 = Sequential()\n",
        "# # add embedding layer\n",
        "model1.add(Embedding(len(word_index), embedding_length, input_length=max_length))\n",
        "model1.add(LSTM(100, dropout_W=0.25))\n",
        "model1.add(Dense(7, activation='softmax'))\n",
        "model1.compile(loss='binary_crossentropy', optimizer='adam', metrics=['accuracy'])\n",
        "print(model1.summary())"
      ],
      "execution_count": 13,
      "outputs": [
        {
          "output_type": "stream",
          "text": [
            "Model: \"sequential_2\"\n",
            "_________________________________________________________________\n",
            "Layer (type)                 Output Shape              Param #   \n",
            "=================================================================\n",
            "embedding_1 (Embedding)      (None, 1000, 64)          3532736   \n",
            "_________________________________________________________________\n",
            "lstm_3 (LSTM)                (None, 100)               66000     \n",
            "_________________________________________________________________\n",
            "dense_2 (Dense)              (None, 7)                 707       \n",
            "=================================================================\n",
            "Total params: 3,599,443\n",
            "Trainable params: 3,599,443\n",
            "Non-trainable params: 0\n",
            "_________________________________________________________________\n",
            "None\n"
          ],
          "name": "stdout"
        },
        {
          "output_type": "stream",
          "text": [
            "/usr/local/lib/python3.6/dist-packages/ipykernel_launcher.py:4: UserWarning: Update your `LSTM` call to the Keras 2 API: `LSTM(100, dropout=0.25)`\n",
            "  after removing the cwd from sys.path.\n"
          ],
          "name": "stderr"
        }
      ]
    },
    {
      "cell_type": "code",
      "metadata": {
        "id": "N-ab4_I4VsCr",
        "colab_type": "code",
        "colab": {
          "base_uri": "https://localhost:8080/",
          "height": 768
        },
        "outputId": "786f46a1-bc13-4011-8c76-3b0a6222d109"
      },
      "source": [
        "history1=model1.fit(X_train1, y_train1, epochs=20,verbose=True, validation_data=(X_valid1,y_valid1), batch_size=64)"
      ],
      "execution_count": 14,
      "outputs": [
        {
          "output_type": "stream",
          "text": [
            "/usr/local/lib/python3.6/dist-packages/tensorflow/python/framework/indexed_slices.py:434: UserWarning: Converting sparse IndexedSlices to a dense Tensor of unknown shape. This may consume a large amount of memory.\n",
            "  \"Converting sparse IndexedSlices to a dense Tensor of unknown shape. \"\n"
          ],
          "name": "stderr"
        },
        {
          "output_type": "stream",
          "text": [
            "Train on 3247 samples, validate on 812 samples\n",
            "Epoch 1/20\n",
            "3247/3247 [==============================] - 100s 31ms/step - loss: 0.4032 - accuracy: 0.8571 - val_loss: 0.3712 - val_accuracy: 0.8638\n",
            "Epoch 2/20\n",
            "3247/3247 [==============================] - 99s 31ms/step - loss: 0.3036 - accuracy: 0.8837 - val_loss: 0.3226 - val_accuracy: 0.8749\n",
            "Epoch 3/20\n",
            "3247/3247 [==============================] - 98s 30ms/step - loss: 0.2462 - accuracy: 0.9044 - val_loss: 0.2208 - val_accuracy: 0.9154\n",
            "Epoch 4/20\n",
            "3247/3247 [==============================] - 94s 29ms/step - loss: 0.1720 - accuracy: 0.9338 - val_loss: 0.2290 - val_accuracy: 0.9131\n",
            "Epoch 5/20\n",
            "3247/3247 [==============================] - 93s 29ms/step - loss: 0.1477 - accuracy: 0.9372 - val_loss: 0.1611 - val_accuracy: 0.9349\n",
            "Epoch 6/20\n",
            "3247/3247 [==============================] - 92s 28ms/step - loss: 0.0931 - accuracy: 0.9656 - val_loss: 0.1448 - val_accuracy: 0.9467\n",
            "Epoch 7/20\n",
            "3247/3247 [==============================] - 91s 28ms/step - loss: 0.0502 - accuracy: 0.9853 - val_loss: 0.1269 - val_accuracy: 0.9527\n",
            "Epoch 8/20\n",
            "3247/3247 [==============================] - 91s 28ms/step - loss: 0.0312 - accuracy: 0.9912 - val_loss: 0.1272 - val_accuracy: 0.9595\n",
            "Epoch 9/20\n",
            "3247/3247 [==============================] - 89s 27ms/step - loss: 0.0631 - accuracy: 0.9806 - val_loss: 0.1529 - val_accuracy: 0.9437\n",
            "Epoch 10/20\n",
            "3247/3247 [==============================] - 90s 28ms/step - loss: 0.0269 - accuracy: 0.9934 - val_loss: 0.1172 - val_accuracy: 0.9616\n",
            "Epoch 11/20\n",
            "3247/3247 [==============================] - 89s 27ms/step - loss: 0.0109 - accuracy: 0.9977 - val_loss: 0.1155 - val_accuracy: 0.9639\n",
            "Epoch 12/20\n",
            "3247/3247 [==============================] - 88s 27ms/step - loss: 0.0070 - accuracy: 0.9988 - val_loss: 0.1221 - val_accuracy: 0.9641\n",
            "Epoch 13/20\n",
            "3247/3247 [==============================] - 88s 27ms/step - loss: 0.0034 - accuracy: 0.9994 - val_loss: 0.1297 - val_accuracy: 0.9629\n",
            "Epoch 14/20\n",
            "3247/3247 [==============================] - 87s 27ms/step - loss: 0.0021 - accuracy: 0.9998 - val_loss: 0.1298 - val_accuracy: 0.9646\n",
            "Epoch 15/20\n",
            "3247/3247 [==============================] - 88s 27ms/step - loss: 0.0027 - accuracy: 0.9994 - val_loss: 0.1305 - val_accuracy: 0.9660\n",
            "Epoch 16/20\n",
            "3247/3247 [==============================] - 88s 27ms/step - loss: 0.0023 - accuracy: 0.9994 - val_loss: 0.1334 - val_accuracy: 0.9652\n",
            "Epoch 17/20\n",
            "3247/3247 [==============================] - 87s 27ms/step - loss: 0.0018 - accuracy: 0.9996 - val_loss: 0.1422 - val_accuracy: 0.9625\n",
            "Epoch 18/20\n",
            "3247/3247 [==============================] - 88s 27ms/step - loss: 0.0037 - accuracy: 0.9990 - val_loss: 0.1353 - val_accuracy: 0.9613\n",
            "Epoch 19/20\n",
            "3247/3247 [==============================] - 88s 27ms/step - loss: 0.0034 - accuracy: 0.9991 - val_loss: 0.1225 - val_accuracy: 0.9636\n",
            "Epoch 20/20\n",
            "3247/3247 [==============================] - 88s 27ms/step - loss: 0.0024 - accuracy: 0.9997 - val_loss: 0.1202 - val_accuracy: 0.9653\n"
          ],
          "name": "stdout"
        }
      ]
    },
    {
      "cell_type": "code",
      "metadata": {
        "id": "7ck80lGMWEf3",
        "colab_type": "code",
        "colab": {
          "base_uri": "https://localhost:8080/",
          "height": 68
        },
        "outputId": "833467fd-13d8-4f0b-92dc-80d6e4bcee1e"
      },
      "source": [
        "Loss,Accuracy = model1.evaluate(X_valid1, y_valid1)\n",
        "print(\"Loss after embedding layer :\", Loss)\n",
        "print(\"Accuracy after adding embedding layer:\",Accuracy)"
      ],
      "execution_count": 15,
      "outputs": [
        {
          "output_type": "stream",
          "text": [
            "812/812 [==============================] - 3s 4ms/step\n",
            "Loss after embedding layer : 0.1202262038080563\n",
            "Accuracy after adding embedding layer: 0.9653412103652954\n"
          ],
          "name": "stdout"
        }
      ]
    },
    {
      "cell_type": "code",
      "metadata": {
        "id": "HnWiiFYyWEjM",
        "colab_type": "code",
        "colab": {
          "base_uri": "https://localhost:8080/",
          "height": 573
        },
        "outputId": "f2be9982-2c9f-409f-f88d-520820542a1b"
      },
      "source": [
        "import matplotlib.pyplot as plt\n",
        "plt.plot(history1.history['accuracy'])\n",
        "plt.plot(history1.history['val_accuracy'])\n",
        "plt.title('Train and validation accuracy')\n",
        "plt.xlabel('Number of epochs')\n",
        "plt.ylabel('Accuracy')\n",
        "plt.legend(['Train', 'Validation'], loc='upper right')\n",
        "plt.show()\n",
        "\n",
        "plt.plot(history1.history['loss'])\n",
        "plt.plot(history1.history['val_loss'])\n",
        "plt.title('Train and validation loss')\n",
        "plt.xlabel('Number of epochs')\n",
        "plt.ylabel('Loss')\n",
        "plt.legend(['Train', 'Validation'], loc='upper right')\n",
        "plt.show()"
      ],
      "execution_count": 16,
      "outputs": [
        {
          "output_type": "display_data",
          "data": {
            "image/png": "[encoded data removed]",
            "text/plain": [
              "<Figure size 432x288 with 1 Axes>"
            ]
          },
          "metadata": {
            "tags": [],
            "needs_background": "light"
          }
        },
        {
          "output_type": "display_data",
          "data": {
            "image/png": "[encoded data removed]",
            "text/plain": [
              "<Figure size 432x288 with 1 Axes>"
            ]
          },
          "metadata": {
            "tags": [],
            "needs_background": "light"
          }
        }
      ]
    },
    {
      "cell_type": "code",
      "metadata": {
        "id": "1W3r6t1yd6pS",
        "colab_type": "code",
        "colab": {}
      },
      "source": [
        ""
      ],
      "execution_count": null,
      "outputs": []
    }
  ]
}